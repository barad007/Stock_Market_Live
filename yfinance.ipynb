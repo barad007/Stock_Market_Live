{
  "cells": [
    {
      "cell_type": "code",
      "execution_count": 89,
      "metadata": {
        "id": "IGENAis_NYTS",
        "colab": {
          "base_uri": "https://localhost:8080/"
        },
        "outputId": "43af4c79-958a-4df9-e7f0-d68c0cf5dc37"
      },
      "outputs": [
        {
          "output_type": "stream",
          "name": "stdout",
          "text": [
            "Looking in indexes: https://pypi.org/simple, https://us-python.pkg.dev/colab-wheels/public/simple/\n",
            "Requirement already satisfied: yfinance in /usr/local/lib/python3.9/dist-packages (0.2.14)\n",
            "Requirement already satisfied: numpy>=1.16.5 in /usr/local/lib/python3.9/dist-packages (from yfinance) (1.22.4)\n",
            "Requirement already satisfied: pytz>=2022.5 in /usr/local/lib/python3.9/dist-packages (from yfinance) (2022.7.1)\n",
            "Requirement already satisfied: lxml>=4.9.1 in /usr/local/lib/python3.9/dist-packages (from yfinance) (4.9.2)\n",
            "Requirement already satisfied: requests>=2.26 in /usr/local/lib/python3.9/dist-packages (from yfinance) (2.27.1)\n",
            "Requirement already satisfied: frozendict>=2.3.4 in /usr/local/lib/python3.9/dist-packages (from yfinance) (2.3.6)\n",
            "Requirement already satisfied: html5lib>=1.1 in /usr/local/lib/python3.9/dist-packages (from yfinance) (1.1)\n",
            "Requirement already satisfied: appdirs>=1.4.4 in /usr/local/lib/python3.9/dist-packages (from yfinance) (1.4.4)\n",
            "Requirement already satisfied: cryptography>=3.3.2 in /usr/local/lib/python3.9/dist-packages (from yfinance) (40.0.1)\n",
            "Requirement already satisfied: multitasking>=0.0.7 in /usr/local/lib/python3.9/dist-packages (from yfinance) (0.0.11)\n",
            "Requirement already satisfied: beautifulsoup4>=4.11.1 in /usr/local/lib/python3.9/dist-packages (from yfinance) (4.11.2)\n",
            "Requirement already satisfied: pandas>=1.3.0 in /usr/local/lib/python3.9/dist-packages (from yfinance) (1.4.4)\n",
            "Requirement already satisfied: soupsieve>1.2 in /usr/local/lib/python3.9/dist-packages (from beautifulsoup4>=4.11.1->yfinance) (2.4)\n",
            "Requirement already satisfied: cffi>=1.12 in /usr/local/lib/python3.9/dist-packages (from cryptography>=3.3.2->yfinance) (1.15.1)\n",
            "Requirement already satisfied: webencodings in /usr/local/lib/python3.9/dist-packages (from html5lib>=1.1->yfinance) (0.5.1)\n",
            "Requirement already satisfied: six>=1.9 in /usr/local/lib/python3.9/dist-packages (from html5lib>=1.1->yfinance) (1.16.0)\n",
            "Requirement already satisfied: python-dateutil>=2.8.1 in /usr/local/lib/python3.9/dist-packages (from pandas>=1.3.0->yfinance) (2.8.2)\n",
            "Requirement already satisfied: charset-normalizer~=2.0.0 in /usr/local/lib/python3.9/dist-packages (from requests>=2.26->yfinance) (2.0.12)\n",
            "Requirement already satisfied: certifi>=2017.4.17 in /usr/local/lib/python3.9/dist-packages (from requests>=2.26->yfinance) (2022.12.7)\n",
            "Requirement already satisfied: idna<4,>=2.5 in /usr/local/lib/python3.9/dist-packages (from requests>=2.26->yfinance) (3.4)\n",
            "Requirement already satisfied: urllib3<1.27,>=1.21.1 in /usr/local/lib/python3.9/dist-packages (from requests>=2.26->yfinance) (1.26.15)\n",
            "Requirement already satisfied: pycparser in /usr/local/lib/python3.9/dist-packages (from cffi>=1.12->cryptography>=3.3.2->yfinance) (2.21)\n"
          ]
        }
      ],
      "source": [
        "! pip install yfinance\n",
        "import json\n",
        "import pandas   as pd   \n",
        "import yfinance as yf\n",
        "import matplotlib.pyplot as plt"
      ]
    },
    {
      "cell_type": "code",
      "execution_count": 135,
      "metadata": {
        "id": "jUk3yncYNgY4"
      },
      "outputs": [],
      "source": [
        "ticker = 'AMD'\n",
        "ticker = \"MCB\"\n",
        "interval='5m'\n",
        "period='1d'"
      ]
    },
    {
      "cell_type": "code",
      "execution_count": 136,
      "metadata": {
        "id": "NpI2zIdzSX4U",
        "colab": {
          "base_uri": "https://localhost:8080/"
        },
        "outputId": "3d9a6004-a2f9-4999-f1f2-0c5921f768de"
      },
      "outputs": [
        {
          "output_type": "stream",
          "name": "stdout",
          "text": [
            "MCB 0.0\n"
          ]
        }
      ],
      "source": [
        "st = yf.Ticker(ticker)\n",
        "info = st.info\n",
        "div = info.get('trailingAnnualDividendYield')\n",
        "print(ticker, div)"
      ]
    },
    {
      "cell_type": "code",
      "source": [
        "info"
      ],
      "metadata": {
        "colab": {
          "base_uri": "https://localhost:8080/"
        },
        "id": "5EmCpm5E9X2C",
        "outputId": "301f6141-16f1-469e-d54e-0264251cfd5b"
      },
      "execution_count": 137,
      "outputs": [
        {
          "output_type": "execute_result",
          "data": {
            "text/plain": [
              "{'symbol': 'MCB',\n",
              " 'twoHundredDayAverageChangePercent': -0.5960522,\n",
              " 'fiftyTwoWeekLowChangePercent': 0.81402016,\n",
              " 'averageAnalystRating': '2.0 - Buy',\n",
              " 'language': 'en-US',\n",
              " 'preMarketChangePercent': 13.564664,\n",
              " 'earningsTimestampEnd': 1682337600,\n",
              " 'regularMarketDayRange': '22.05 - 35.02',\n",
              " 'epsForward': 9.65,\n",
              " 'regularMarketDayHigh': 35.02,\n",
              " 'twoHundredDayAverageChange': -37.4204,\n",
              " 'askSize': 9,\n",
              " 'twoHundredDayAverage': 62.7804,\n",
              " 'bookValue': 52.594,\n",
              " 'marketCap': 277973504,\n",
              " 'fiftyTwoWeekHighChange': -79.479,\n",
              " 'fiftyTwoWeekRange': '13.98 - 104.839',\n",
              " 'fiftyDayAverageChange': -25.4216,\n",
              " 'exchangeDataDelayedBy': 0,\n",
              " 'firstTradeDateMilliseconds': 1510151400000,\n",
              " 'averageDailyVolume3Month': 312475,\n",
              " 'trailingAnnualDividendRate': 0.0,\n",
              " 'fiftyTwoWeekLow': 13.98,\n",
              " 'regularMarketVolume': 5987194,\n",
              " 'market': 'us_market',\n",
              " 'quoteSourceName': 'Nasdaq Real Time Price',\n",
              " 'messageBoardId': 'finmb_58797797',\n",
              " 'priceHint': 2,\n",
              " 'exchange': 'NYQ',\n",
              " 'sourceInterval': 15,\n",
              " 'regularMarketDayLow': 22.05,\n",
              " 'shortName': 'Metropolitan Bank Holding Corp.',\n",
              " 'region': 'US',\n",
              " 'fiftyDayAverageChangePercent': -0.50060654,\n",
              " 'preMarketTime': 1680261896,\n",
              " 'fullExchangeName': 'NYSE',\n",
              " 'earningsTimestampStart': 1681901940,\n",
              " 'financialCurrency': 'USD',\n",
              " 'displayName': 'Metropolitan Bank Holding',\n",
              " 'gmtOffSetMilliseconds': -14400000,\n",
              " 'regularMarketOpen': 35.02,\n",
              " 'regularMarketTime': '4:03PM EDT',\n",
              " 'regularMarketChangePercent': -27.584236,\n",
              " 'trailingAnnualDividendYield': 0.0,\n",
              " 'quoteType': 'EQUITY',\n",
              " 'fiftyTwoWeekLowChange': 11.380001,\n",
              " 'averageDailyVolume10Day': 869950,\n",
              " 'fiftyTwoWeekHighChangePercent': -0.7581053,\n",
              " 'typeDisp': 'Equity',\n",
              " 'trailingPE': 4.793951,\n",
              " 'tradeable': False,\n",
              " 'preMarketPrice': 28.8,\n",
              " 'currency': 'USD',\n",
              " 'sharesOutstanding': 10961100,\n",
              " 'regularMarketPreviousClose': 35.02,\n",
              " 'fiftyTwoWeekHigh': 104.839,\n",
              " 'exchangeTimezoneName': 'America/New_York',\n",
              " 'regularMarketChange': -9.66,\n",
              " 'bidSize': 8,\n",
              " 'priceEpsCurrentYear': 2.9557111,\n",
              " 'cryptoTradeable': False,\n",
              " 'fiftyDayAverage': 50.7816,\n",
              " 'epsCurrentYear': 8.58,\n",
              " 'exchangeTimezoneShortName': 'EDT',\n",
              " 'marketState': 'PRE',\n",
              " 'regularMarketPrice': 25.36,\n",
              " 'customPriceAlertConfidence': 'HIGH',\n",
              " 'preMarketChange': 3.4399986,\n",
              " 'forwardPE': 2.6279795,\n",
              " 'earningsTimestamp': 1674223200,\n",
              " 'ask': 29.0,\n",
              " 'epsTrailingTwelveMonths': 5.29,\n",
              " 'bid': 28.67,\n",
              " 'priceToBook': 0.48218426,\n",
              " 'triggerable': True,\n",
              " 'longName': 'Metropolitan Bank Holding Corp.',\n",
              " 'trailingPegRatio': None}"
            ]
          },
          "metadata": {},
          "execution_count": 137
        }
      ]
    },
    {
      "cell_type": "code",
      "source": [
        "print(f\"{info.get('longName')} ({info.get('symbol')})\")\n",
        "print(f\"{info.get('fullExchangeName')} | Currency in {info.get('financialCurrency')}\\n\")\n",
        "print(f\"{info.get('regularMarketPrice')} {info.get('regularMarketChange')} ({info.get('regularMarketChangePercent')})\\n\")   \n",
        "print(f\"Previous Close: {info.get('regularMarketPreviousClose')}\")\n",
        "print(f\"Bid: {info.get('bid')}\")\n",
        "print(f\"Ask: {info.get('ask')}\")\n",
        "print(f\"Open: {info.get('regularMarketOpen')}\")\n",
        "print(f\"Day's Range: {info.get('regularMarketDayRange')}\")\n",
        "print(f\"52 Week Range: {info.get('fiftyTwoWeekRange')}\")\n",
        "print(f\"Volume: {info.get('regularMarketVolume')}\")\n",
        "print(f\"Avg. Volume: {info.get('averageDailyVolume3Month')}\")\n",
        "print(f\"Market Cap: {info.get('marketCap')}\")\n",
        "print(f\"PE Ratio (TTM): {info.get('trailingPE')}\")\n",
        "print(f\"EPS (TTM): {info.get('epsTrailingTwelveMonths')}\")\n",
        "print(f\"Forward Dividend & Yield: {info.get('trailingAnnualDividendYield')}\")"
      ],
      "metadata": {
        "colab": {
          "base_uri": "https://localhost:8080/"
        },
        "id": "qIR70LKi-ADr",
        "outputId": "1c918f32-8152-4851-82aa-26c127efdd72"
      },
      "execution_count": 138,
      "outputs": [
        {
          "output_type": "stream",
          "name": "stdout",
          "text": [
            "Metropolitan Bank Holding Corp. (MCB)\n",
            "NYSE | Currency in USD\n",
            "\n",
            "25.36 -9.66 (-27.584236)\n",
            "\n",
            "Previous Close: 35.02\n",
            "Bid: 28.67\n",
            "Ask: 29.0\n",
            "Open: 35.02\n",
            "Day's Range: 22.05 - 35.02\n",
            "52 Week Range: 13.98 - 104.839\n",
            "Volume: 5987194\n",
            "Avg. Volume: 312475\n",
            "Market Cap: 277973504\n",
            "PE Ratio (TTM): 4.793951\n",
            "EPS (TTM): 5.29\n",
            "Forward Dividend & Yield: 0.0\n"
          ]
        }
      ]
    },
    {
      "cell_type": "code",
      "source": [
        "data = st.history(interval='5m',period='1d')\n",
        "data"
      ],
      "metadata": {
        "colab": {
          "base_uri": "https://localhost:8080/",
          "height": 455
        },
        "id": "euIh2-FSHfsT",
        "outputId": "df3dbc37-6046-43e0-f1e8-e90e97b22c07"
      },
      "execution_count": 139,
      "outputs": [
        {
          "output_type": "execute_result",
          "data": {
            "text/plain": [
              "                                Open       High        Low      Close  Volume  \\\n",
              "Datetime                                                                        \n",
              "2023-03-30 09:30:00-04:00  35.020000  35.020000  34.520000  34.540001   11422   \n",
              "2023-03-30 09:35:00-04:00  34.380001  34.419998  33.849998  34.240002    8247   \n",
              "2023-03-30 09:40:00-04:00  34.005001  34.132702  33.671398  33.830002   14071   \n",
              "2023-03-30 09:45:00-04:00  33.965000  34.110001  33.709999  33.990002   10783   \n",
              "2023-03-30 09:50:00-04:00  33.660000  33.709000  33.250000  33.250000   13256   \n",
              "...                              ...        ...        ...        ...     ...   \n",
              "2023-03-30 15:35:00-04:00  24.588200  26.540001  24.587400  25.930000  290708   \n",
              "2023-03-30 15:40:00-04:00  25.855700  25.920000  25.100000  25.320000  152198   \n",
              "2023-03-30 15:45:00-04:00  25.400000  25.649900  25.050100  25.440001  106370   \n",
              "2023-03-30 15:50:00-04:00  25.440001  25.610001  25.030001  25.561501  144265   \n",
              "2023-03-30 15:55:00-04:00  25.590000  25.709999  25.260000  25.350000  133618   \n",
              "\n",
              "                           Dividends  Stock Splits  \n",
              "Datetime                                            \n",
              "2023-03-30 09:30:00-04:00        0.0           0.0  \n",
              "2023-03-30 09:35:00-04:00        0.0           0.0  \n",
              "2023-03-30 09:40:00-04:00        0.0           0.0  \n",
              "2023-03-30 09:45:00-04:00        0.0           0.0  \n",
              "2023-03-30 09:50:00-04:00        0.0           0.0  \n",
              "...                              ...           ...  \n",
              "2023-03-30 15:35:00-04:00        0.0           0.0  \n",
              "2023-03-30 15:40:00-04:00        0.0           0.0  \n",
              "2023-03-30 15:45:00-04:00        0.0           0.0  \n",
              "2023-03-30 15:50:00-04:00        0.0           0.0  \n",
              "2023-03-30 15:55:00-04:00        0.0           0.0  \n",
              "\n",
              "[78 rows x 7 columns]"
            ],
            "text/html": [
              "\n",
              "  <div id=\"df-c479c97e-0ca6-49ca-9f5a-a3d55d9cfb97\">\n",
              "    <div class=\"colab-df-container\">\n",
              "      <div>\n",
              "<style scoped>\n",
              "    .dataframe tbody tr th:only-of-type {\n",
              "        vertical-align: middle;\n",
              "    }\n",
              "\n",
              "    .dataframe tbody tr th {\n",
              "        vertical-align: top;\n",
              "    }\n",
              "\n",
              "    .dataframe thead th {\n",
              "        text-align: right;\n",
              "    }\n",
              "</style>\n",
              "<table border=\"1\" class=\"dataframe\">\n",
              "  <thead>\n",
              "    <tr style=\"text-align: right;\">\n",
              "      <th></th>\n",
              "      <th>Open</th>\n",
              "      <th>High</th>\n",
              "      <th>Low</th>\n",
              "      <th>Close</th>\n",
              "      <th>Volume</th>\n",
              "      <th>Dividends</th>\n",
              "      <th>Stock Splits</th>\n",
              "    </tr>\n",
              "    <tr>\n",
              "      <th>Datetime</th>\n",
              "      <th></th>\n",
              "      <th></th>\n",
              "      <th></th>\n",
              "      <th></th>\n",
              "      <th></th>\n",
              "      <th></th>\n",
              "      <th></th>\n",
              "    </tr>\n",
              "  </thead>\n",
              "  <tbody>\n",
              "    <tr>\n",
              "      <th>2023-03-30 09:30:00-04:00</th>\n",
              "      <td>35.020000</td>\n",
              "      <td>35.020000</td>\n",
              "      <td>34.520000</td>\n",
              "      <td>34.540001</td>\n",
              "      <td>11422</td>\n",
              "      <td>0.0</td>\n",
              "      <td>0.0</td>\n",
              "    </tr>\n",
              "    <tr>\n",
              "      <th>2023-03-30 09:35:00-04:00</th>\n",
              "      <td>34.380001</td>\n",
              "      <td>34.419998</td>\n",
              "      <td>33.849998</td>\n",
              "      <td>34.240002</td>\n",
              "      <td>8247</td>\n",
              "      <td>0.0</td>\n",
              "      <td>0.0</td>\n",
              "    </tr>\n",
              "    <tr>\n",
              "      <th>2023-03-30 09:40:00-04:00</th>\n",
              "      <td>34.005001</td>\n",
              "      <td>34.132702</td>\n",
              "      <td>33.671398</td>\n",
              "      <td>33.830002</td>\n",
              "      <td>14071</td>\n",
              "      <td>0.0</td>\n",
              "      <td>0.0</td>\n",
              "    </tr>\n",
              "    <tr>\n",
              "      <th>2023-03-30 09:45:00-04:00</th>\n",
              "      <td>33.965000</td>\n",
              "      <td>34.110001</td>\n",
              "      <td>33.709999</td>\n",
              "      <td>33.990002</td>\n",
              "      <td>10783</td>\n",
              "      <td>0.0</td>\n",
              "      <td>0.0</td>\n",
              "    </tr>\n",
              "    <tr>\n",
              "      <th>2023-03-30 09:50:00-04:00</th>\n",
              "      <td>33.660000</td>\n",
              "      <td>33.709000</td>\n",
              "      <td>33.250000</td>\n",
              "      <td>33.250000</td>\n",
              "      <td>13256</td>\n",
              "      <td>0.0</td>\n",
              "      <td>0.0</td>\n",
              "    </tr>\n",
              "    <tr>\n",
              "      <th>...</th>\n",
              "      <td>...</td>\n",
              "      <td>...</td>\n",
              "      <td>...</td>\n",
              "      <td>...</td>\n",
              "      <td>...</td>\n",
              "      <td>...</td>\n",
              "      <td>...</td>\n",
              "    </tr>\n",
              "    <tr>\n",
              "      <th>2023-03-30 15:35:00-04:00</th>\n",
              "      <td>24.588200</td>\n",
              "      <td>26.540001</td>\n",
              "      <td>24.587400</td>\n",
              "      <td>25.930000</td>\n",
              "      <td>290708</td>\n",
              "      <td>0.0</td>\n",
              "      <td>0.0</td>\n",
              "    </tr>\n",
              "    <tr>\n",
              "      <th>2023-03-30 15:40:00-04:00</th>\n",
              "      <td>25.855700</td>\n",
              "      <td>25.920000</td>\n",
              "      <td>25.100000</td>\n",
              "      <td>25.320000</td>\n",
              "      <td>152198</td>\n",
              "      <td>0.0</td>\n",
              "      <td>0.0</td>\n",
              "    </tr>\n",
              "    <tr>\n",
              "      <th>2023-03-30 15:45:00-04:00</th>\n",
              "      <td>25.400000</td>\n",
              "      <td>25.649900</td>\n",
              "      <td>25.050100</td>\n",
              "      <td>25.440001</td>\n",
              "      <td>106370</td>\n",
              "      <td>0.0</td>\n",
              "      <td>0.0</td>\n",
              "    </tr>\n",
              "    <tr>\n",
              "      <th>2023-03-30 15:50:00-04:00</th>\n",
              "      <td>25.440001</td>\n",
              "      <td>25.610001</td>\n",
              "      <td>25.030001</td>\n",
              "      <td>25.561501</td>\n",
              "      <td>144265</td>\n",
              "      <td>0.0</td>\n",
              "      <td>0.0</td>\n",
              "    </tr>\n",
              "    <tr>\n",
              "      <th>2023-03-30 15:55:00-04:00</th>\n",
              "      <td>25.590000</td>\n",
              "      <td>25.709999</td>\n",
              "      <td>25.260000</td>\n",
              "      <td>25.350000</td>\n",
              "      <td>133618</td>\n",
              "      <td>0.0</td>\n",
              "      <td>0.0</td>\n",
              "    </tr>\n",
              "  </tbody>\n",
              "</table>\n",
              "<p>78 rows × 7 columns</p>\n",
              "</div>\n",
              "      <button class=\"colab-df-convert\" onclick=\"convertToInteractive('df-c479c97e-0ca6-49ca-9f5a-a3d55d9cfb97')\"\n",
              "              title=\"Convert this dataframe to an interactive table.\"\n",
              "              style=\"display:none;\">\n",
              "        \n",
              "  <svg xmlns=\"http://www.w3.org/2000/svg\" height=\"24px\"viewBox=\"0 0 24 24\"\n",
              "       width=\"24px\">\n",
              "    <path d=\"M0 0h24v24H0V0z\" fill=\"none\"/>\n",
              "    <path d=\"M18.56 5.44l.94 2.06.94-2.06 2.06-.94-2.06-.94-.94-2.06-.94 2.06-2.06.94zm-11 1L8.5 8.5l.94-2.06 2.06-.94-2.06-.94L8.5 2.5l-.94 2.06-2.06.94zm10 10l.94 2.06.94-2.06 2.06-.94-2.06-.94-.94-2.06-.94 2.06-2.06.94z\"/><path d=\"M17.41 7.96l-1.37-1.37c-.4-.4-.92-.59-1.43-.59-.52 0-1.04.2-1.43.59L10.3 9.45l-7.72 7.72c-.78.78-.78 2.05 0 2.83L4 21.41c.39.39.9.59 1.41.59.51 0 1.02-.2 1.41-.59l7.78-7.78 2.81-2.81c.8-.78.8-2.07 0-2.86zM5.41 20L4 18.59l7.72-7.72 1.47 1.35L5.41 20z\"/>\n",
              "  </svg>\n",
              "      </button>\n",
              "      \n",
              "  <style>\n",
              "    .colab-df-container {\n",
              "      display:flex;\n",
              "      flex-wrap:wrap;\n",
              "      gap: 12px;\n",
              "    }\n",
              "\n",
              "    .colab-df-convert {\n",
              "      background-color: #E8F0FE;\n",
              "      border: none;\n",
              "      border-radius: 50%;\n",
              "      cursor: pointer;\n",
              "      display: none;\n",
              "      fill: #1967D2;\n",
              "      height: 32px;\n",
              "      padding: 0 0 0 0;\n",
              "      width: 32px;\n",
              "    }\n",
              "\n",
              "    .colab-df-convert:hover {\n",
              "      background-color: #E2EBFA;\n",
              "      box-shadow: 0px 1px 2px rgba(60, 64, 67, 0.3), 0px 1px 3px 1px rgba(60, 64, 67, 0.15);\n",
              "      fill: #174EA6;\n",
              "    }\n",
              "\n",
              "    [theme=dark] .colab-df-convert {\n",
              "      background-color: #3B4455;\n",
              "      fill: #D2E3FC;\n",
              "    }\n",
              "\n",
              "    [theme=dark] .colab-df-convert:hover {\n",
              "      background-color: #434B5C;\n",
              "      box-shadow: 0px 1px 3px 1px rgba(0, 0, 0, 0.15);\n",
              "      filter: drop-shadow(0px 1px 2px rgba(0, 0, 0, 0.3));\n",
              "      fill: #FFFFFF;\n",
              "    }\n",
              "  </style>\n",
              "\n",
              "      <script>\n",
              "        const buttonEl =\n",
              "          document.querySelector('#df-c479c97e-0ca6-49ca-9f5a-a3d55d9cfb97 button.colab-df-convert');\n",
              "        buttonEl.style.display =\n",
              "          google.colab.kernel.accessAllowed ? 'block' : 'none';\n",
              "\n",
              "        async function convertToInteractive(key) {\n",
              "          const element = document.querySelector('#df-c479c97e-0ca6-49ca-9f5a-a3d55d9cfb97');\n",
              "          const dataTable =\n",
              "            await google.colab.kernel.invokeFunction('convertToInteractive',\n",
              "                                                     [key], {});\n",
              "          if (!dataTable) return;\n",
              "\n",
              "          const docLinkHtml = 'Like what you see? Visit the ' +\n",
              "            '<a target=\"_blank\" href=https://colab.research.google.com/notebooks/data_table.ipynb>data table notebook</a>'\n",
              "            + ' to learn more about interactive tables.';\n",
              "          element.innerHTML = '';\n",
              "          dataTable['output_type'] = 'display_data';\n",
              "          await google.colab.output.renderOutput(dataTable, element);\n",
              "          const docLink = document.createElement('div');\n",
              "          docLink.innerHTML = docLinkHtml;\n",
              "          element.appendChild(docLink);\n",
              "        }\n",
              "      </script>\n",
              "    </div>\n",
              "  </div>\n",
              "  "
            ]
          },
          "metadata": {},
          "execution_count": 139
        }
      ]
    },
    {
      "cell_type": "code",
      "source": [
        "data.Open.plot()"
      ],
      "metadata": {
        "colab": {
          "base_uri": "https://localhost:8080/",
          "height": 464
        },
        "id": "2KJOEVF_HvZC",
        "outputId": "67aa3720-5699-412a-9104-4e0bbc6596bb"
      },
      "execution_count": 140,
      "outputs": [
        {
          "output_type": "execute_result",
          "data": {
            "text/plain": [
              "<Axes: xlabel='Datetime'>"
            ]
          },
          "metadata": {},
          "execution_count": 140
        },
        {
          "output_type": "display_data",
          "data": {
            "text/plain": [
              "<Figure size 640x480 with 1 Axes>"
            ],
            "image/png": "[encoded data removed]"
          },
          "metadata": {}
        }
      ]
    },
    {
      "cell_type": "markdown",
      "source": [
        "https://finance.yahoo.com/quote/MCB?p=MCB"
      ],
      "metadata": {
        "id": "fAxugH2mTx5p"
      }
    },
    {
      "cell_type": "code",
      "source": [
        "df = data[\"Open\"]\n",
        "trade_prices = df.to_json(orient=\"table\")\n",
        "trade_prices"
      ],
      "metadata": {
        "colab": {
          "base_uri": "https://localhost:8080/",
          "height": 105
        },
        "id": "JbbIBWmcWtgo",
        "outputId": "5bed790a-9702-466b-ef67-5b2671eb4c86"
      },
      "execution_count": 141,
      "outputs": [
        {
          "output_type": "execute_result",
          "data": {
            "text/plain": [
              "'{\"schema\":{\"fields\":[{\"name\":\"Datetime\",\"type\":\"datetime\",\"tz\":\"America\\\\/New_York\"},{\"name\":\"Open\",\"type\":\"number\"}],\"primaryKey\":[\"Datetime\"],\"pandas_version\":\"1.4.0\"},\"data\":[{\"Datetime\":\"2023-03-30T13:30:00.000Z\",\"Open\":35.0200004578},{\"Datetime\":\"2023-03-30T13:35:00.000Z\",\"Open\":34.3800010681},{\"Datetime\":\"2023-03-30T13:40:00.000Z\",\"Open\":34.0050010681},{\"Datetime\":\"2023-03-30T13:45:00.000Z\",\"Open\":33.9650001526},{\"Datetime\":\"2023-03-30T13:50:00.000Z\",\"Open\":33.6599998474},{\"Datetime\":\"2023-03-30T13:55:00.000Z\",\"Open\":33.1100006104},{\"Datetime\":\"2023-03-30T14:00:00.000Z\",\"Open\":32.6010017395},{\"Datetime\":\"2023-03-30T14:05:00.000Z\",\"Open\":33.0950012207},{\"Datetime\":\"2023-03-30T14:10:00.000Z\",\"Open\":32.9350013733},{\"Datetime\":\"2023-03-30T14:15:00.000Z\",\"Open\":32.7599983215},{\"Datetime\":\"2023-03-30T14:20:00.000Z\",\"Open\":32.7000007629},{\"Datetime\":\"2023-03-30T14:25:00.000Z\",\"Open\":32.1300010681},{\"Datetime\":\"2023-03-30T14:30:00.000Z\",\"Open\":31.4500007629},{\"Datetime\":\"2023-03-30T14:35:00.000Z\",\"Open\":31.4599990845},{\"Datetime\":\"2023-03-30T14:40:00.000Z\",\"Open\":31.1100006104},{\"Datetime\":\"2023-03-30T14:45:00.000Z\",\"Open\":30.0599994659},{\"Datetime\":\"2023-03-30T14:50:00.000Z\",\"Open\":29.7099990845},{\"Datetime\":\"2023-03-30T14:55:00.000Z\",\"Open\":28.8999996185},{\"Datetime\":\"2023-03-30T15:00:00.000Z\",\"Open\":26.8001003265},{\"Datetime\":\"2023-03-30T15:05:00.000Z\",\"Open\":29.1599998474},{\"Datetime\":\"2023-03-30T15:10:00.000Z\",\"Open\":28.7084999084},{\"Datetime\":\"2023-03-30T15:15:00.000Z\",\"Open\":27.3113994598},{\"Datetime\":\"2023-03-30T15:20:00.000Z\",\"Open\":28.3700008392},{\"Datetime\":\"2023-03-30T15:25:00.000Z\",\"Open\":28.2299003601},{\"Datetime\":\"2023-03-30T15:30:00.000Z\",\"Open\":26.044500351},{\"Datetime\":\"2023-03-30T15:35:00.000Z\",\"Open\":24.8999996185},{\"Datetime\":\"2023-03-30T15:40:00.000Z\",\"Open\":26.7000007629},{\"Datetime\":\"2023-03-30T15:45:00.000Z\",\"Open\":27.3999996185},{\"Datetime\":\"2023-03-30T15:50:00.000Z\",\"Open\":26.7700004578},{\"Datetime\":\"2023-03-30T15:55:00.000Z\",\"Open\":27.1599998474},{\"Datetime\":\"2023-03-30T16:00:00.000Z\",\"Open\":27.4144001007},{\"Datetime\":\"2023-03-30T16:05:00.000Z\",\"Open\":28.3799991608},{\"Datetime\":\"2023-03-30T16:10:00.000Z\",\"Open\":28.3999996185},{\"Datetime\":\"2023-03-30T16:15:00.000Z\",\"Open\":27.9554004669},{\"Datetime\":\"2023-03-30T16:20:00.000Z\",\"Open\":27.8001003265},{\"Datetime\":\"2023-03-30T16:25:00.000Z\",\"Open\":28.0149993896},{\"Datetime\":\"2023-03-30T16:30:00.000Z\",\"Open\":27.3799991608},{\"Datetime\":\"2023-03-30T16:35:00.000Z\",\"Open\":26.1599998474},{\"Datetime\":\"2023-03-30T16:40:00.000Z\",\"Open\":25.75},{\"Datetime\":\"2023-03-30T16:45:00.000Z\",\"Open\":26.3099994659},{\"Datetime\":\"2023-03-30T16:50:00.000Z\",\"Open\":26.5699996948},{\"Datetime\":\"2023-03-30T16:55:00.000Z\",\"Open\":27.3850002289},{\"Datetime\":\"2023-03-30T17:00:00.000Z\",\"Open\":26.6550006866},{\"Datetime\":\"2023-03-30T17:05:00.000Z\",\"Open\":26.5100002289},{\"Datetime\":\"2023-03-30T17:10:00.000Z\",\"Open\":26.5},{\"Datetime\":\"2023-03-30T17:15:00.000Z\",\"Open\":25.0100002289},{\"Datetime\":\"2023-03-30T17:20:00.000Z\",\"Open\":24.7141990662},{\"Datetime\":\"2023-03-30T17:25:00.000Z\",\"Open\":24.8500003815},{\"Datetime\":\"2023-03-30T17:30:00.000Z\",\"Open\":23.2299995422},{\"Datetime\":\"2023-03-30T17:35:00.000Z\",\"Open\":23.1849994659},{\"Datetime\":\"2023-03-30T17:40:00.000Z\",\"Open\":23.7199993134},{\"Datetime\":\"2023-03-30T17:45:00.000Z\",\"Open\":23.8651008606},{\"Datetime\":\"2023-03-30T17:50:00.000Z\",\"Open\":24.1599998474},{\"Datetime\":\"2023-03-30T17:55:00.000Z\",\"Open\":24.3600006104},{\"Datetime\":\"2023-03-30T18:00:00.000Z\",\"Open\":24.5622005463},{\"Datetime\":\"2023-03-30T18:05:00.000Z\",\"Open\":23.7900009155},{\"Datetime\":\"2023-03-30T18:10:00.000Z\",\"Open\":24.1399993896},{\"Datetime\":\"2023-03-30T18:15:00.000Z\",\"Open\":24.25},{\"Datetime\":\"2023-03-30T18:20:00.000Z\",\"Open\":23.7700004578},{\"Datetime\":\"2023-03-30T18:25:00.000Z\",\"Open\":23.3999996185},{\"Datetime\":\"2023-03-30T18:30:00.000Z\",\"Open\":22.8150005341},{\"Datetime\":\"2023-03-30T18:35:00.000Z\",\"Open\":23.1462001801},{\"Datetime\":\"2023-03-30T18:40:00.000Z\",\"Open\":22.7800006866},{\"Datetime\":\"2023-03-30T18:45:00.000Z\",\"Open\":22.6599998474},{\"Datetime\":\"2023-03-30T18:50:00.000Z\",\"Open\":22.8229007721},{\"Datetime\":\"2023-03-30T18:55:00.000Z\",\"Open\":22.5799999237},{\"Datetime\":\"2023-03-30T19:00:00.000Z\",\"Open\":22.5499992371},{\"Datetime\":\"2023-03-30T19:05:00.000Z\",\"Open\":23.1700000763},{\"Datetime\":\"2023-03-30T19:10:00.000Z\",\"Open\":23.2900009155},{\"Datetime\":\"2023-03-30T19:15:00.000Z\",\"Open\":24.1849994659},{\"Datetime\":\"2023-03-30T19:20:00.000Z\",\"Open\":23.5},{\"Datetime\":\"2023-03-30T19:25:00.000Z\",\"Open\":23.5699996948},{\"Datetime\":\"2023-03-30T19:30:00.000Z\",\"Open\":23.75},{\"Datetime\":\"2023-03-30T19:35:00.000Z\",\"Open\":24.5881996155},{\"Datetime\":\"2023-03-30T19:40:00.000Z\",\"Open\":25.8556995392},{\"Datetime\":\"2023-03-30T19:45:00.000Z\",\"Open\":25.3999996185},{\"Datetime\":\"2023-03-30T19:50:00.000Z\",\"Open\":25.4400005341},{\"Datetime\":\"2023-03-30T19:55:00.000Z\",\"Open\":25.5900001526}]}'"
            ],
            "application/vnd.google.colaboratory.intrinsic+json": {
              "type": "string"
            }
          },
          "metadata": {},
          "execution_count": 141
        }
      ]
    },
    {
      "cell_type": "code",
      "source": [
        "info[\"trade_prices\"] = trade_prices\n",
        "info"
      ],
      "metadata": {
        "colab": {
          "base_uri": "https://localhost:8080/"
        },
        "id": "JZRHEOsiaS17",
        "outputId": "18ec6802-9849-4888-99b9-906547ed8e9f"
      },
      "execution_count": 142,
      "outputs": [
        {
          "output_type": "execute_result",
          "data": {
            "text/plain": [
              "{'symbol': 'MCB',\n",
              " 'twoHundredDayAverageChangePercent': -0.5960522,\n",
              " 'fiftyTwoWeekLowChangePercent': 0.81402016,\n",
              " 'averageAnalystRating': '2.0 - Buy',\n",
              " 'language': 'en-US',\n",
              " 'preMarketChangePercent': 13.564664,\n",
              " 'earningsTimestampEnd': 1682337600,\n",
              " 'regularMarketDayRange': '22.05 - 35.02',\n",
              " 'epsForward': 9.65,\n",
              " 'regularMarketDayHigh': 35.02,\n",
              " 'twoHundredDayAverageChange': -37.4204,\n",
              " 'askSize': 9,\n",
              " 'twoHundredDayAverage': 62.7804,\n",
              " 'bookValue': 52.594,\n",
              " 'marketCap': 277973504,\n",
              " 'fiftyTwoWeekHighChange': -79.479,\n",
              " 'fiftyTwoWeekRange': '13.98 - 104.839',\n",
              " 'fiftyDayAverageChange': -25.4216,\n",
              " 'exchangeDataDelayedBy': 0,\n",
              " 'firstTradeDateMilliseconds': 1510151400000,\n",
              " 'averageDailyVolume3Month': 312475,\n",
              " 'trailingAnnualDividendRate': 0.0,\n",
              " 'fiftyTwoWeekLow': 13.98,\n",
              " 'regularMarketVolume': 5987194,\n",
              " 'market': 'us_market',\n",
              " 'quoteSourceName': 'Nasdaq Real Time Price',\n",
              " 'messageBoardId': 'finmb_58797797',\n",
              " 'priceHint': 2,\n",
              " 'exchange': 'NYQ',\n",
              " 'sourceInterval': 15,\n",
              " 'regularMarketDayLow': 22.05,\n",
              " 'shortName': 'Metropolitan Bank Holding Corp.',\n",
              " 'region': 'US',\n",
              " 'fiftyDayAverageChangePercent': -0.50060654,\n",
              " 'preMarketTime': 1680261896,\n",
              " 'fullExchangeName': 'NYSE',\n",
              " 'earningsTimestampStart': 1681901940,\n",
              " 'financialCurrency': 'USD',\n",
              " 'displayName': 'Metropolitan Bank Holding',\n",
              " 'gmtOffSetMilliseconds': -14400000,\n",
              " 'regularMarketOpen': 35.02,\n",
              " 'regularMarketTime': '4:03PM EDT',\n",
              " 'regularMarketChangePercent': -27.584236,\n",
              " 'trailingAnnualDividendYield': 0.0,\n",
              " 'quoteType': 'EQUITY',\n",
              " 'fiftyTwoWeekLowChange': 11.380001,\n",
              " 'averageDailyVolume10Day': 869950,\n",
              " 'fiftyTwoWeekHighChangePercent': -0.7581053,\n",
              " 'typeDisp': 'Equity',\n",
              " 'trailingPE': 4.793951,\n",
              " 'tradeable': False,\n",
              " 'preMarketPrice': 28.8,\n",
              " 'currency': 'USD',\n",
              " 'sharesOutstanding': 10961100,\n",
              " 'regularMarketPreviousClose': 35.02,\n",
              " 'fiftyTwoWeekHigh': 104.839,\n",
              " 'exchangeTimezoneName': 'America/New_York',\n",
              " 'regularMarketChange': -9.66,\n",
              " 'bidSize': 8,\n",
              " 'priceEpsCurrentYear': 2.9557111,\n",
              " 'cryptoTradeable': False,\n",
              " 'fiftyDayAverage': 50.7816,\n",
              " 'epsCurrentYear': 8.58,\n",
              " 'exchangeTimezoneShortName': 'EDT',\n",
              " 'marketState': 'PRE',\n",
              " 'regularMarketPrice': 25.36,\n",
              " 'customPriceAlertConfidence': 'HIGH',\n",
              " 'preMarketChange': 3.4399986,\n",
              " 'forwardPE': 2.6279795,\n",
              " 'earningsTimestamp': 1674223200,\n",
              " 'ask': 29.0,\n",
              " 'epsTrailingTwelveMonths': 5.29,\n",
              " 'bid': 28.67,\n",
              " 'priceToBook': 0.48218426,\n",
              " 'triggerable': True,\n",
              " 'longName': 'Metropolitan Bank Holding Corp.',\n",
              " 'trailingPegRatio': None,\n",
              " 'trade_prices': '{\"schema\":{\"fields\":[{\"name\":\"Datetime\",\"type\":\"datetime\",\"tz\":\"America\\\\/New_York\"},{\"name\":\"Open\",\"type\":\"number\"}],\"primaryKey\":[\"Datetime\"],\"pandas_version\":\"1.4.0\"},\"data\":[{\"Datetime\":\"2023-03-30T13:30:00.000Z\",\"Open\":35.0200004578},{\"Datetime\":\"2023-03-30T13:35:00.000Z\",\"Open\":34.3800010681},{\"Datetime\":\"2023-03-30T13:40:00.000Z\",\"Open\":34.0050010681},{\"Datetime\":\"2023-03-30T13:45:00.000Z\",\"Open\":33.9650001526},{\"Datetime\":\"2023-03-30T13:50:00.000Z\",\"Open\":33.6599998474},{\"Datetime\":\"2023-03-30T13:55:00.000Z\",\"Open\":33.1100006104},{\"Datetime\":\"2023-03-30T14:00:00.000Z\",\"Open\":32.6010017395},{\"Datetime\":\"2023-03-30T14:05:00.000Z\",\"Open\":33.0950012207},{\"Datetime\":\"2023-03-30T14:10:00.000Z\",\"Open\":32.9350013733},{\"Datetime\":\"2023-03-30T14:15:00.000Z\",\"Open\":32.7599983215},{\"Datetime\":\"2023-03-30T14:20:00.000Z\",\"Open\":32.7000007629},{\"Datetime\":\"2023-03-30T14:25:00.000Z\",\"Open\":32.1300010681},{\"Datetime\":\"2023-03-30T14:30:00.000Z\",\"Open\":31.4500007629},{\"Datetime\":\"2023-03-30T14:35:00.000Z\",\"Open\":31.4599990845},{\"Datetime\":\"2023-03-30T14:40:00.000Z\",\"Open\":31.1100006104},{\"Datetime\":\"2023-03-30T14:45:00.000Z\",\"Open\":30.0599994659},{\"Datetime\":\"2023-03-30T14:50:00.000Z\",\"Open\":29.7099990845},{\"Datetime\":\"2023-03-30T14:55:00.000Z\",\"Open\":28.8999996185},{\"Datetime\":\"2023-03-30T15:00:00.000Z\",\"Open\":26.8001003265},{\"Datetime\":\"2023-03-30T15:05:00.000Z\",\"Open\":29.1599998474},{\"Datetime\":\"2023-03-30T15:10:00.000Z\",\"Open\":28.7084999084},{\"Datetime\":\"2023-03-30T15:15:00.000Z\",\"Open\":27.3113994598},{\"Datetime\":\"2023-03-30T15:20:00.000Z\",\"Open\":28.3700008392},{\"Datetime\":\"2023-03-30T15:25:00.000Z\",\"Open\":28.2299003601},{\"Datetime\":\"2023-03-30T15:30:00.000Z\",\"Open\":26.044500351},{\"Datetime\":\"2023-03-30T15:35:00.000Z\",\"Open\":24.8999996185},{\"Datetime\":\"2023-03-30T15:40:00.000Z\",\"Open\":26.7000007629},{\"Datetime\":\"2023-03-30T15:45:00.000Z\",\"Open\":27.3999996185},{\"Datetime\":\"2023-03-30T15:50:00.000Z\",\"Open\":26.7700004578},{\"Datetime\":\"2023-03-30T15:55:00.000Z\",\"Open\":27.1599998474},{\"Datetime\":\"2023-03-30T16:00:00.000Z\",\"Open\":27.4144001007},{\"Datetime\":\"2023-03-30T16:05:00.000Z\",\"Open\":28.3799991608},{\"Datetime\":\"2023-03-30T16:10:00.000Z\",\"Open\":28.3999996185},{\"Datetime\":\"2023-03-30T16:15:00.000Z\",\"Open\":27.9554004669},{\"Datetime\":\"2023-03-30T16:20:00.000Z\",\"Open\":27.8001003265},{\"Datetime\":\"2023-03-30T16:25:00.000Z\",\"Open\":28.0149993896},{\"Datetime\":\"2023-03-30T16:30:00.000Z\",\"Open\":27.3799991608},{\"Datetime\":\"2023-03-30T16:35:00.000Z\",\"Open\":26.1599998474},{\"Datetime\":\"2023-03-30T16:40:00.000Z\",\"Open\":25.75},{\"Datetime\":\"2023-03-30T16:45:00.000Z\",\"Open\":26.3099994659},{\"Datetime\":\"2023-03-30T16:50:00.000Z\",\"Open\":26.5699996948},{\"Datetime\":\"2023-03-30T16:55:00.000Z\",\"Open\":27.3850002289},{\"Datetime\":\"2023-03-30T17:00:00.000Z\",\"Open\":26.6550006866},{\"Datetime\":\"2023-03-30T17:05:00.000Z\",\"Open\":26.5100002289},{\"Datetime\":\"2023-03-30T17:10:00.000Z\",\"Open\":26.5},{\"Datetime\":\"2023-03-30T17:15:00.000Z\",\"Open\":25.0100002289},{\"Datetime\":\"2023-03-30T17:20:00.000Z\",\"Open\":24.7141990662},{\"Datetime\":\"2023-03-30T17:25:00.000Z\",\"Open\":24.8500003815},{\"Datetime\":\"2023-03-30T17:30:00.000Z\",\"Open\":23.2299995422},{\"Datetime\":\"2023-03-30T17:35:00.000Z\",\"Open\":23.1849994659},{\"Datetime\":\"2023-03-30T17:40:00.000Z\",\"Open\":23.7199993134},{\"Datetime\":\"2023-03-30T17:45:00.000Z\",\"Open\":23.8651008606},{\"Datetime\":\"2023-03-30T17:50:00.000Z\",\"Open\":24.1599998474},{\"Datetime\":\"2023-03-30T17:55:00.000Z\",\"Open\":24.3600006104},{\"Datetime\":\"2023-03-30T18:00:00.000Z\",\"Open\":24.5622005463},{\"Datetime\":\"2023-03-30T18:05:00.000Z\",\"Open\":23.7900009155},{\"Datetime\":\"2023-03-30T18:10:00.000Z\",\"Open\":24.1399993896},{\"Datetime\":\"2023-03-30T18:15:00.000Z\",\"Open\":24.25},{\"Datetime\":\"2023-03-30T18:20:00.000Z\",\"Open\":23.7700004578},{\"Datetime\":\"2023-03-30T18:25:00.000Z\",\"Open\":23.3999996185},{\"Datetime\":\"2023-03-30T18:30:00.000Z\",\"Open\":22.8150005341},{\"Datetime\":\"2023-03-30T18:35:00.000Z\",\"Open\":23.1462001801},{\"Datetime\":\"2023-03-30T18:40:00.000Z\",\"Open\":22.7800006866},{\"Datetime\":\"2023-03-30T18:45:00.000Z\",\"Open\":22.6599998474},{\"Datetime\":\"2023-03-30T18:50:00.000Z\",\"Open\":22.8229007721},{\"Datetime\":\"2023-03-30T18:55:00.000Z\",\"Open\":22.5799999237},{\"Datetime\":\"2023-03-30T19:00:00.000Z\",\"Open\":22.5499992371},{\"Datetime\":\"2023-03-30T19:05:00.000Z\",\"Open\":23.1700000763},{\"Datetime\":\"2023-03-30T19:10:00.000Z\",\"Open\":23.2900009155},{\"Datetime\":\"2023-03-30T19:15:00.000Z\",\"Open\":24.1849994659},{\"Datetime\":\"2023-03-30T19:20:00.000Z\",\"Open\":23.5},{\"Datetime\":\"2023-03-30T19:25:00.000Z\",\"Open\":23.5699996948},{\"Datetime\":\"2023-03-30T19:30:00.000Z\",\"Open\":23.75},{\"Datetime\":\"2023-03-30T19:35:00.000Z\",\"Open\":24.5881996155},{\"Datetime\":\"2023-03-30T19:40:00.000Z\",\"Open\":25.8556995392},{\"Datetime\":\"2023-03-30T19:45:00.000Z\",\"Open\":25.3999996185},{\"Datetime\":\"2023-03-30T19:50:00.000Z\",\"Open\":25.4400005341},{\"Datetime\":\"2023-03-30T19:55:00.000Z\",\"Open\":25.5900001526}]}'}"
            ]
          },
          "metadata": {},
          "execution_count": 142
        }
      ]
    },
    {
      "cell_type": "code",
      "source": [
        "# Serializing json  \n",
        "json_object = json.dumps(info) \n",
        "print(json_object)"
      ],
      "metadata": {
        "colab": {
          "base_uri": "https://localhost:8080/"
        },
        "id": "4IHVphP6Wtlx",
        "outputId": "36a80af9-0e29-4b79-988c-a814c42e0198"
      },
      "execution_count": 143,
      "outputs": [
        {
          "output_type": "stream",
          "name": "stdout",
          "text": [
            "{\"symbol\": \"MCB\", \"twoHundredDayAverageChangePercent\": -0.5960522, \"fiftyTwoWeekLowChangePercent\": 0.81402016, \"averageAnalystRating\": \"2.0 - Buy\", \"language\": \"en-US\", \"preMarketChangePercent\": 13.564664, \"earningsTimestampEnd\": 1682337600, \"regularMarketDayRange\": \"22.05 - 35.02\", \"epsForward\": 9.65, \"regularMarketDayHigh\": 35.02, \"twoHundredDayAverageChange\": -37.4204, \"askSize\": 9, \"twoHundredDayAverage\": 62.7804, \"bookValue\": 52.594, \"marketCap\": 277973504, \"fiftyTwoWeekHighChange\": -79.479, \"fiftyTwoWeekRange\": \"13.98 - 104.839\", \"fiftyDayAverageChange\": -25.4216, \"exchangeDataDelayedBy\": 0, \"firstTradeDateMilliseconds\": 1510151400000, \"averageDailyVolume3Month\": 312475, \"trailingAnnualDividendRate\": 0.0, \"fiftyTwoWeekLow\": 13.98, \"regularMarketVolume\": 5987194, \"market\": \"us_market\", \"quoteSourceName\": \"Nasdaq Real Time Price\", \"messageBoardId\": \"finmb_58797797\", \"priceHint\": 2, \"exchange\": \"NYQ\", \"sourceInterval\": 15, \"regularMarketDayLow\": 22.05, \"shortName\": \"Metropolitan Bank Holding Corp.\", \"region\": \"US\", \"fiftyDayAverageChangePercent\": -0.50060654, \"preMarketTime\": 1680261896, \"fullExchangeName\": \"NYSE\", \"earningsTimestampStart\": 1681901940, \"financialCurrency\": \"USD\", \"displayName\": \"Metropolitan Bank Holding\", \"gmtOffSetMilliseconds\": -14400000, \"regularMarketOpen\": 35.02, \"regularMarketTime\": \"4:03PM EDT\", \"regularMarketChangePercent\": -27.584236, \"trailingAnnualDividendYield\": 0.0, \"quoteType\": \"EQUITY\", \"fiftyTwoWeekLowChange\": 11.380001, \"averageDailyVolume10Day\": 869950, \"fiftyTwoWeekHighChangePercent\": -0.7581053, \"typeDisp\": \"Equity\", \"trailingPE\": 4.793951, \"tradeable\": false, \"preMarketPrice\": 28.8, \"currency\": \"USD\", \"sharesOutstanding\": 10961100, \"regularMarketPreviousClose\": 35.02, \"fiftyTwoWeekHigh\": 104.839, \"exchangeTimezoneName\": \"America/New_York\", \"regularMarketChange\": -9.66, \"bidSize\": 8, \"priceEpsCurrentYear\": 2.9557111, \"cryptoTradeable\": false, \"fiftyDayAverage\": 50.7816, \"epsCurrentYear\": 8.58, \"exchangeTimezoneShortName\": \"EDT\", \"marketState\": \"PRE\", \"regularMarketPrice\": 25.36, \"customPriceAlertConfidence\": \"HIGH\", \"preMarketChange\": 3.4399986, \"forwardPE\": 2.6279795, \"earningsTimestamp\": 1674223200, \"ask\": 29.0, \"epsTrailingTwelveMonths\": 5.29, \"bid\": 28.67, \"priceToBook\": 0.48218426, \"triggerable\": true, \"longName\": \"Metropolitan Bank Holding Corp.\", \"trailingPegRatio\": null, \"trade_prices\": \"{\\\"schema\\\":{\\\"fields\\\":[{\\\"name\\\":\\\"Datetime\\\",\\\"type\\\":\\\"datetime\\\",\\\"tz\\\":\\\"America\\\\/New_York\\\"},{\\\"name\\\":\\\"Open\\\",\\\"type\\\":\\\"number\\\"}],\\\"primaryKey\\\":[\\\"Datetime\\\"],\\\"pandas_version\\\":\\\"1.4.0\\\"},\\\"data\\\":[{\\\"Datetime\\\":\\\"2023-03-30T13:30:00.000Z\\\",\\\"Open\\\":35.0200004578},{\\\"Datetime\\\":\\\"2023-03-30T13:35:00.000Z\\\",\\\"Open\\\":34.3800010681},{\\\"Datetime\\\":\\\"2023-03-30T13:40:00.000Z\\\",\\\"Open\\\":34.0050010681},{\\\"Datetime\\\":\\\"2023-03-30T13:45:00.000Z\\\",\\\"Open\\\":33.9650001526},{\\\"Datetime\\\":\\\"2023-03-30T13:50:00.000Z\\\",\\\"Open\\\":33.6599998474},{\\\"Datetime\\\":\\\"2023-03-30T13:55:00.000Z\\\",\\\"Open\\\":33.1100006104},{\\\"Datetime\\\":\\\"2023-03-30T14:00:00.000Z\\\",\\\"Open\\\":32.6010017395},{\\\"Datetime\\\":\\\"2023-03-30T14:05:00.000Z\\\",\\\"Open\\\":33.0950012207},{\\\"Datetime\\\":\\\"2023-03-30T14:10:00.000Z\\\",\\\"Open\\\":32.9350013733},{\\\"Datetime\\\":\\\"2023-03-30T14:15:00.000Z\\\",\\\"Open\\\":32.7599983215},{\\\"Datetime\\\":\\\"2023-03-30T14:20:00.000Z\\\",\\\"Open\\\":32.7000007629},{\\\"Datetime\\\":\\\"2023-03-30T14:25:00.000Z\\\",\\\"Open\\\":32.1300010681},{\\\"Datetime\\\":\\\"2023-03-30T14:30:00.000Z\\\",\\\"Open\\\":31.4500007629},{\\\"Datetime\\\":\\\"2023-03-30T14:35:00.000Z\\\",\\\"Open\\\":31.4599990845},{\\\"Datetime\\\":\\\"2023-03-30T14:40:00.000Z\\\",\\\"Open\\\":31.1100006104},{\\\"Datetime\\\":\\\"2023-03-30T14:45:00.000Z\\\",\\\"Open\\\":30.0599994659},{\\\"Datetime\\\":\\\"2023-03-30T14:50:00.000Z\\\",\\\"Open\\\":29.7099990845},{\\\"Datetime\\\":\\\"2023-03-30T14:55:00.000Z\\\",\\\"Open\\\":28.8999996185},{\\\"Datetime\\\":\\\"2023-03-30T15:00:00.000Z\\\",\\\"Open\\\":26.8001003265},{\\\"Datetime\\\":\\\"2023-03-30T15:05:00.000Z\\\",\\\"Open\\\":29.1599998474},{\\\"Datetime\\\":\\\"2023-03-30T15:10:00.000Z\\\",\\\"Open\\\":28.7084999084},{\\\"Datetime\\\":\\\"2023-03-30T15:15:00.000Z\\\",\\\"Open\\\":27.3113994598},{\\\"Datetime\\\":\\\"2023-03-30T15:20:00.000Z\\\",\\\"Open\\\":28.3700008392},{\\\"Datetime\\\":\\\"2023-03-30T15:25:00.000Z\\\",\\\"Open\\\":28.2299003601},{\\\"Datetime\\\":\\\"2023-03-30T15:30:00.000Z\\\",\\\"Open\\\":26.044500351},{\\\"Datetime\\\":\\\"2023-03-30T15:35:00.000Z\\\",\\\"Open\\\":24.8999996185},{\\\"Datetime\\\":\\\"2023-03-30T15:40:00.000Z\\\",\\\"Open\\\":26.7000007629},{\\\"Datetime\\\":\\\"2023-03-30T15:45:00.000Z\\\",\\\"Open\\\":27.3999996185},{\\\"Datetime\\\":\\\"2023-03-30T15:50:00.000Z\\\",\\\"Open\\\":26.7700004578},{\\\"Datetime\\\":\\\"2023-03-30T15:55:00.000Z\\\",\\\"Open\\\":27.1599998474},{\\\"Datetime\\\":\\\"2023-03-30T16:00:00.000Z\\\",\\\"Open\\\":27.4144001007},{\\\"Datetime\\\":\\\"2023-03-30T16:05:00.000Z\\\",\\\"Open\\\":28.3799991608},{\\\"Datetime\\\":\\\"2023-03-30T16:10:00.000Z\\\",\\\"Open\\\":28.3999996185},{\\\"Datetime\\\":\\\"2023-03-30T16:15:00.000Z\\\",\\\"Open\\\":27.9554004669},{\\\"Datetime\\\":\\\"2023-03-30T16:20:00.000Z\\\",\\\"Open\\\":27.8001003265},{\\\"Datetime\\\":\\\"2023-03-30T16:25:00.000Z\\\",\\\"Open\\\":28.0149993896},{\\\"Datetime\\\":\\\"2023-03-30T16:30:00.000Z\\\",\\\"Open\\\":27.3799991608},{\\\"Datetime\\\":\\\"2023-03-30T16:35:00.000Z\\\",\\\"Open\\\":26.1599998474},{\\\"Datetime\\\":\\\"2023-03-30T16:40:00.000Z\\\",\\\"Open\\\":25.75},{\\\"Datetime\\\":\\\"2023-03-30T16:45:00.000Z\\\",\\\"Open\\\":26.3099994659},{\\\"Datetime\\\":\\\"2023-03-30T16:50:00.000Z\\\",\\\"Open\\\":26.5699996948},{\\\"Datetime\\\":\\\"2023-03-30T16:55:00.000Z\\\",\\\"Open\\\":27.3850002289},{\\\"Datetime\\\":\\\"2023-03-30T17:00:00.000Z\\\",\\\"Open\\\":26.6550006866},{\\\"Datetime\\\":\\\"2023-03-30T17:05:00.000Z\\\",\\\"Open\\\":26.5100002289},{\\\"Datetime\\\":\\\"2023-03-30T17:10:00.000Z\\\",\\\"Open\\\":26.5},{\\\"Datetime\\\":\\\"2023-03-30T17:15:00.000Z\\\",\\\"Open\\\":25.0100002289},{\\\"Datetime\\\":\\\"2023-03-30T17:20:00.000Z\\\",\\\"Open\\\":24.7141990662},{\\\"Datetime\\\":\\\"2023-03-30T17:25:00.000Z\\\",\\\"Open\\\":24.8500003815},{\\\"Datetime\\\":\\\"2023-03-30T17:30:00.000Z\\\",\\\"Open\\\":23.2299995422},{\\\"Datetime\\\":\\\"2023-03-30T17:35:00.000Z\\\",\\\"Open\\\":23.1849994659},{\\\"Datetime\\\":\\\"2023-03-30T17:40:00.000Z\\\",\\\"Open\\\":23.7199993134},{\\\"Datetime\\\":\\\"2023-03-30T17:45:00.000Z\\\",\\\"Open\\\":23.8651008606},{\\\"Datetime\\\":\\\"2023-03-30T17:50:00.000Z\\\",\\\"Open\\\":24.1599998474},{\\\"Datetime\\\":\\\"2023-03-30T17:55:00.000Z\\\",\\\"Open\\\":24.3600006104},{\\\"Datetime\\\":\\\"2023-03-30T18:00:00.000Z\\\",\\\"Open\\\":24.5622005463},{\\\"Datetime\\\":\\\"2023-03-30T18:05:00.000Z\\\",\\\"Open\\\":23.7900009155},{\\\"Datetime\\\":\\\"2023-03-30T18:10:00.000Z\\\",\\\"Open\\\":24.1399993896},{\\\"Datetime\\\":\\\"2023-03-30T18:15:00.000Z\\\",\\\"Open\\\":24.25},{\\\"Datetime\\\":\\\"2023-03-30T18:20:00.000Z\\\",\\\"Open\\\":23.7700004578},{\\\"Datetime\\\":\\\"2023-03-30T18:25:00.000Z\\\",\\\"Open\\\":23.3999996185},{\\\"Datetime\\\":\\\"2023-03-30T18:30:00.000Z\\\",\\\"Open\\\":22.8150005341},{\\\"Datetime\\\":\\\"2023-03-30T18:35:00.000Z\\\",\\\"Open\\\":23.1462001801},{\\\"Datetime\\\":\\\"2023-03-30T18:40:00.000Z\\\",\\\"Open\\\":22.7800006866},{\\\"Datetime\\\":\\\"2023-03-30T18:45:00.000Z\\\",\\\"Open\\\":22.6599998474},{\\\"Datetime\\\":\\\"2023-03-30T18:50:00.000Z\\\",\\\"Open\\\":22.8229007721},{\\\"Datetime\\\":\\\"2023-03-30T18:55:00.000Z\\\",\\\"Open\\\":22.5799999237},{\\\"Datetime\\\":\\\"2023-03-30T19:00:00.000Z\\\",\\\"Open\\\":22.5499992371},{\\\"Datetime\\\":\\\"2023-03-30T19:05:00.000Z\\\",\\\"Open\\\":23.1700000763},{\\\"Datetime\\\":\\\"2023-03-30T19:10:00.000Z\\\",\\\"Open\\\":23.2900009155},{\\\"Datetime\\\":\\\"2023-03-30T19:15:00.000Z\\\",\\\"Open\\\":24.1849994659},{\\\"Datetime\\\":\\\"2023-03-30T19:20:00.000Z\\\",\\\"Open\\\":23.5},{\\\"Datetime\\\":\\\"2023-03-30T19:25:00.000Z\\\",\\\"Open\\\":23.5699996948},{\\\"Datetime\\\":\\\"2023-03-30T19:30:00.000Z\\\",\\\"Open\\\":23.75},{\\\"Datetime\\\":\\\"2023-03-30T19:35:00.000Z\\\",\\\"Open\\\":24.5881996155},{\\\"Datetime\\\":\\\"2023-03-30T19:40:00.000Z\\\",\\\"Open\\\":25.8556995392},{\\\"Datetime\\\":\\\"2023-03-30T19:45:00.000Z\\\",\\\"Open\\\":25.3999996185},{\\\"Datetime\\\":\\\"2023-03-30T19:50:00.000Z\\\",\\\"Open\\\":25.4400005341},{\\\"Datetime\\\":\\\"2023-03-30T19:55:00.000Z\\\",\\\"Open\\\":25.5900001526}]}\"}\n"
          ]
        }
      ]
    }
  ],
  "metadata": {
    "colab": {
      "provenance": []
    },
    "kernelspec": {
      "display_name": "Python 3",
      "name": "python3"
    },
    "language_info": {
      "name": "python"
    }
  },
  "nbformat": 4,
  "nbformat_minor": 0
}